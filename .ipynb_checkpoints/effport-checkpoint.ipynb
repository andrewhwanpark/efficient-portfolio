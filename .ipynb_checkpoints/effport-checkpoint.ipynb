{
 "cells": [
  {
   "cell_type": "code",
   "execution_count": 30,
   "metadata": {
    "scrolled": true
   },
   "outputs": [
    {
     "name": "stdout",
     "output_type": "stream",
     "text": [
      "weights size:  (5,)\n",
      "                 adj_close                                        \n",
      "ticker                AAPL        FB        GE      MSFT      TSLA\n",
      "          ticker                                                  \n",
      "adj_close AAPL    0.000284  0.000159  0.000089  0.000260  0.000195\n",
      "          FB      0.000159  0.000456  0.000175  0.000242  0.000219\n",
      "          GE      0.000089  0.000175  0.000494  0.000137  0.000090\n",
      "          MSFT    0.000260  0.000242  0.000137  0.000400  0.000265\n",
      "          TSLA    0.000195  0.000219  0.000090  0.000265  0.000685\n",
      "weights:  [0.20033183 0.10399105 0.23404503 0.27939116 0.18224092]\n",
      "dot product:  [0.05104622 0.0573743  0.05197671 0.06787974 0.07100972]\n"
     ]
    }
   ],
   "source": [
    "# Copied from: https://medium.com/python-data/effient-frontier-in-python-34b0c3043314\n",
    "# This program was created for my own educational purposes to truly understand Markowitz Portfolio Theory\n",
    "# No part of this program is used for commercial purposes\n",
    "\n",
    "import quandl\n",
    "import pandas as pd\n",
    "import numpy as np\n",
    "import matplotlib.pyplot as plt\n",
    "\n",
    "quandl.ApiConfig.api_key = '3qNsf3VUNsvytS7sS_7W'\n",
    "selected = ['TSLA', 'FB', 'GOOGL', 'ADBE', 'AAPL']\n",
    "data = quandl.get_table('WIKI/PRICES', ticker = selected, qopts = { 'columns': ['date', 'ticker', 'adj_close'] }, date = { 'gte': '2018-1-1', 'lte': '2018-12-31' }, paginate=True)\n",
    "\n",
    "clean = data.set_index('date')\n",
    "table = clean.pivot(columns='ticker')\n",
    "\n",
    "# Calculate daily & annual returns of the stocks\n",
    "returns_daily = table.pct_change()\n",
    "# Why does this * 253 not (1 + r)^253?\n",
    "returns_annual = returns_daily.mean() * 252 # of Trading Days: 252\n",
    "\n",
    "# Calculate daily & annual covariance\n",
    "cov_daily = returns_daily.cov() # Generate covariance matrix\n",
    "cov_annual = cov_daily * 252 # Annualize covmat\n",
    "\n",
    "# Lists to store portfolio attributes\n",
    "port_returns = []\n",
    "port_volatility = []\n",
    "stock_weight = []\n",
    "\n",
    "# set the number of combinations for imaginary portfolios\n",
    "num_assets = len(selected)\n",
    "num_portfolio = 10000 # Number of imaginary portfolios\n",
    "\n",
    "# Populate empty lists with each port's attributes\n",
    "for port in range(num_portfolio):\n",
    "    weights = np.random.random(num_assets) # Returned as n x 1 Matrix\n",
    "    weights /= np.sum(weights) # Normalize weight\n",
    "    returns = np.dot(weights, returns_annual) # Portfolio Expected Return\n",
    "    # How is this dot product cov_annual, weights first? The cols and rows don't match for matrix mult\n",
    "    volatility = np.sqrt(np.dot(weights.T, np.dot(cov_annual, weights))) # Portfolio Standard Deviation\n",
    "    \n",
    "    print(\"weights size: \", np.shape(weights))\n",
    "    print(cov_daily.head())\n",
    "    print(\"weights: \", weights)\n",
    "    print(\"dot product: \", np.dot(cov_annual, weights))\n",
    "    \n",
    "    # Add calculated values into appropriate lists\n",
    "    port_returns.append(returns)\n",
    "    port_volatility.append(volatility)\n",
    "    stock_weight.append(weights)\n",
    "    break\n",
    "    \n",
    "portfolio = {\n",
    "    'Returns': port_returns,\n",
    "    'Volatility': port_volatility\n",
    "}\n",
    "\n",
    "# extend portfolio to accomodate ticker & weight\n",
    "for counter, symbol in enumerate(selected):\n",
    "    portfolio[symbol + ' Weight'] = [Weight[counter] for Weight in stock_weight]\n",
    "\n",
    "df = pd.DataFrame(portfolio)\n",
    "\n",
    "column_order = ['Returns', 'Volatility'] + [stock + ' Weight' for stock in selected]\n",
    "\n",
    "df = df[column_order]\n",
    "\n",
    "# plt.style.use('seaborn')\n",
    "# df.plot.scatter(x='Volatility', y='Returns', grid=True)\n",
    "# plt.xlabel('Volatility')\n",
    "# plt.ylabel('Expected Returns')\n",
    "# plt.title('Efficient Frontier')\n",
    "# plt.show()"
   ]
  },
  {
   "cell_type": "code",
   "execution_count": null,
   "metadata": {},
   "outputs": [],
   "source": []
  }
 ],
 "metadata": {
  "kernelspec": {
   "display_name": "Python 3",
   "language": "python",
   "name": "python3"
  },
  "language_info": {
   "codemirror_mode": {
    "name": "ipython",
    "version": 3
   },
   "file_extension": ".py",
   "mimetype": "text/x-python",
   "name": "python",
   "nbconvert_exporter": "python",
   "pygments_lexer": "ipython3",
   "version": "3.6.0"
  }
 },
 "nbformat": 4,
 "nbformat_minor": 2
}
