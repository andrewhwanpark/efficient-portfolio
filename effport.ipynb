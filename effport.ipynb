{
 "cells": [
  {
   "cell_type": "code",
   "execution_count": 30,
   "metadata": {},
   "outputs": [
    {
     "name": "stdout",
     "output_type": "stream",
     "text": [
      "           ticker\n",
      "adj_close  AAPL     -0.065209\n",
      "           FB       -0.707622\n",
      "           GE       -1.204489\n",
      "           MSFT      0.224700\n",
      "           TSLA     -0.515517\n",
      "dtype: float64\n"
     ]
    }
   ],
   "source": [
    "import quandl\n",
    "import pandas as pd\n",
    "import numpy as np\n",
    "import matplotlib.pyplot as plt\n",
    "\n",
    "quandl.ApiConfig.api_key = '3qNsf3VUNsvytS7sS_7W'\n",
    "selected = ['TSLA', 'FB', 'MSFT', 'GE', 'AAPL']\n",
    "data = quandl.get_table('WIKI/PRICES', ticker = selected, qopts = { 'columns': ['date', 'ticker', 'adj_close'] }, date = { 'gte': '2018-1-1', 'lte': '2018-12-31' }, paginate=True)\n",
    "\n",
    "clean = data.set_index('date')\n",
    "table = clean.pivot(columns='ticker')\n",
    "\n",
    "# Calculate daily & annual returns of the stocks\n",
    "returns_daily = table.pct_change()\n",
    "returns_annual = returns_daily.mean() * 253\n",
    "\n",
    "print(returns_annual.head())\n",
    "\n",
    "# Lists to store portfolio attributes\n",
    "port_returns = []\n",
    "port_volatility = []\n",
    "stock_weight = []\n",
    "\n",
    "# set the number of combinations for imaginary portfolios\n",
    "num_assets = len(selected)\n",
    "num_portfolio = 50000\n",
    "\n",
    "# Populate empty lists with each port's attributes\n",
    "for port in range(num_portfolio):\n",
    "    weights = np.random.random(num_assets)\n",
    "    weights /= np.sum(weights)\n",
    "    returns = 0\n"
   ]
  },
  {
   "cell_type": "code",
   "execution_count": null,
   "metadata": {},
   "outputs": [],
   "source": []
  }
 ],
 "metadata": {
  "kernelspec": {
   "display_name": "Python 3",
   "language": "python",
   "name": "python3"
  },
  "language_info": {
   "codemirror_mode": {
    "name": "ipython",
    "version": 3
   },
   "file_extension": ".py",
   "mimetype": "text/x-python",
   "name": "python",
   "nbconvert_exporter": "python",
   "pygments_lexer": "ipython3",
   "version": "3.6.0"
  }
 },
 "nbformat": 4,
 "nbformat_minor": 2
}
